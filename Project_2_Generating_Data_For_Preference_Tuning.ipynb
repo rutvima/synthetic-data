{
  "nbformat": 4,
  "nbformat_minor": 0,
  "metadata": {
    "colab": {
      "provenance": []
    },
    "kernelspec": {
      "name": "python3",
      "display_name": "Python 3"
    },
    "language_info": {
      "name": "python"
    },
    "widgets": {
      "application/vnd.jupyter.widget-state+json": {
        "796b6a34cbb74b74b57f147648a03ef5": {
          "model_module": "@jupyter-widgets/controls",
          "model_name": "HBoxModel",
          "model_module_version": "1.5.0",
          "state": {
            "_dom_classes": [],
            "_model_module": "@jupyter-widgets/controls",
            "_model_module_version": "1.5.0",
            "_model_name": "HBoxModel",
            "_view_count": null,
            "_view_module": "@jupyter-widgets/controls",
            "_view_module_version": "1.5.0",
            "_view_name": "HBoxView",
            "box_style": "",
            "children": [
              "IPY_MODEL_5d6b16c7f4e041a5984f9d56fca9bed5",
              "IPY_MODEL_bf10f070144e4eee872a59797f462e11",
              "IPY_MODEL_28aa8b7c989942e9a25e12651e2f87b0"
            ],
            "layout": "IPY_MODEL_0860d39e24434b64bf46f88a63781095"
          }
        },
        "5d6b16c7f4e041a5984f9d56fca9bed5": {
          "model_module": "@jupyter-widgets/controls",
          "model_name": "HTMLModel",
          "model_module_version": "1.5.0",
          "state": {
            "_dom_classes": [],
            "_model_module": "@jupyter-widgets/controls",
            "_model_module_version": "1.5.0",
            "_model_name": "HTMLModel",
            "_view_count": null,
            "_view_module": "@jupyter-widgets/controls",
            "_view_module_version": "1.5.0",
            "_view_name": "HTMLView",
            "description": "",
            "description_tooltip": null,
            "layout": "IPY_MODEL_1987f6f706974a539fdbc3d37fa93f8c",
            "placeholder": "​",
            "style": "IPY_MODEL_0a18b55378314edfb1438492adbaaf66",
            "value": "README.md: 100%"
          }
        },
        "bf10f070144e4eee872a59797f462e11": {
          "model_module": "@jupyter-widgets/controls",
          "model_name": "FloatProgressModel",
          "model_module_version": "1.5.0",
          "state": {
            "_dom_classes": [],
            "_model_module": "@jupyter-widgets/controls",
            "_model_module_version": "1.5.0",
            "_model_name": "FloatProgressModel",
            "_view_count": null,
            "_view_module": "@jupyter-widgets/controls",
            "_view_module_version": "1.5.0",
            "_view_name": "ProgressView",
            "bar_style": "success",
            "description": "",
            "description_tooltip": null,
            "layout": "IPY_MODEL_ac9ccc2a62c4438a8e4cb7b54d2e1063",
            "max": 10163,
            "min": 0,
            "orientation": "horizontal",
            "style": "IPY_MODEL_e01645dc8d5142bbb65ebde8b557cd98",
            "value": 10163
          }
        },
        "28aa8b7c989942e9a25e12651e2f87b0": {
          "model_module": "@jupyter-widgets/controls",
          "model_name": "HTMLModel",
          "model_module_version": "1.5.0",
          "state": {
            "_dom_classes": [],
            "_model_module": "@jupyter-widgets/controls",
            "_model_module_version": "1.5.0",
            "_model_name": "HTMLModel",
            "_view_count": null,
            "_view_module": "@jupyter-widgets/controls",
            "_view_module_version": "1.5.0",
            "_view_name": "HTMLView",
            "description": "",
            "description_tooltip": null,
            "layout": "IPY_MODEL_661b1dbfbb2a47c8bedfabb8d70f5a89",
            "placeholder": "​",
            "style": "IPY_MODEL_8d643422af864e8e97e0b836eb6c7ef8",
            "value": " 10.2k/10.2k [00:00&lt;00:00, 1.01MB/s]"
          }
        },
        "0860d39e24434b64bf46f88a63781095": {
          "model_module": "@jupyter-widgets/base",
          "model_name": "LayoutModel",
          "model_module_version": "1.2.0",
          "state": {
            "_model_module": "@jupyter-widgets/base",
            "_model_module_version": "1.2.0",
            "_model_name": "LayoutModel",
            "_view_count": null,
            "_view_module": "@jupyter-widgets/base",
            "_view_module_version": "1.2.0",
            "_view_name": "LayoutView",
            "align_content": null,
            "align_items": null,
            "align_self": null,
            "border": null,
            "bottom": null,
            "display": null,
            "flex": null,
            "flex_flow": null,
            "grid_area": null,
            "grid_auto_columns": null,
            "grid_auto_flow": null,
            "grid_auto_rows": null,
            "grid_column": null,
            "grid_gap": null,
            "grid_row": null,
            "grid_template_areas": null,
            "grid_template_columns": null,
            "grid_template_rows": null,
            "height": null,
            "justify_content": null,
            "justify_items": null,
            "left": null,
            "margin": null,
            "max_height": null,
            "max_width": null,
            "min_height": null,
            "min_width": null,
            "object_fit": null,
            "object_position": null,
            "order": null,
            "overflow": null,
            "overflow_x": null,
            "overflow_y": null,
            "padding": null,
            "right": null,
            "top": null,
            "visibility": null,
            "width": null
          }
        },
        "1987f6f706974a539fdbc3d37fa93f8c": {
          "model_module": "@jupyter-widgets/base",
          "model_name": "LayoutModel",
          "model_module_version": "1.2.0",
          "state": {
            "_model_module": "@jupyter-widgets/base",
            "_model_module_version": "1.2.0",
            "_model_name": "LayoutModel",
            "_view_count": null,
            "_view_module": "@jupyter-widgets/base",
            "_view_module_version": "1.2.0",
            "_view_name": "LayoutView",
            "align_content": null,
            "align_items": null,
            "align_self": null,
            "border": null,
            "bottom": null,
            "display": null,
            "flex": null,
            "flex_flow": null,
            "grid_area": null,
            "grid_auto_columns": null,
            "grid_auto_flow": null,
            "grid_auto_rows": null,
            "grid_column": null,
            "grid_gap": null,
            "grid_row": null,
            "grid_template_areas": null,
            "grid_template_columns": null,
            "grid_template_rows": null,
            "height": null,
            "justify_content": null,
            "justify_items": null,
            "left": null,
            "margin": null,
            "max_height": null,
            "max_width": null,
            "min_height": null,
            "min_width": null,
            "object_fit": null,
            "object_position": null,
            "order": null,
            "overflow": null,
            "overflow_x": null,
            "overflow_y": null,
            "padding": null,
            "right": null,
            "top": null,
            "visibility": null,
            "width": null
          }
        },
        "0a18b55378314edfb1438492adbaaf66": {
          "model_module": "@jupyter-widgets/controls",
          "model_name": "DescriptionStyleModel",
          "model_module_version": "1.5.0",
          "state": {
            "_model_module": "@jupyter-widgets/controls",
            "_model_module_version": "1.5.0",
            "_model_name": "DescriptionStyleModel",
            "_view_count": null,
            "_view_module": "@jupyter-widgets/base",
            "_view_module_version": "1.2.0",
            "_view_name": "StyleView",
            "description_width": ""
          }
        },
        "ac9ccc2a62c4438a8e4cb7b54d2e1063": {
          "model_module": "@jupyter-widgets/base",
          "model_name": "LayoutModel",
          "model_module_version": "1.2.0",
          "state": {
            "_model_module": "@jupyter-widgets/base",
            "_model_module_version": "1.2.0",
            "_model_name": "LayoutModel",
            "_view_count": null,
            "_view_module": "@jupyter-widgets/base",
            "_view_module_version": "1.2.0",
            "_view_name": "LayoutView",
            "align_content": null,
            "align_items": null,
            "align_self": null,
            "border": null,
            "bottom": null,
            "display": null,
            "flex": null,
            "flex_flow": null,
            "grid_area": null,
            "grid_auto_columns": null,
            "grid_auto_flow": null,
            "grid_auto_rows": null,
            "grid_column": null,
            "grid_gap": null,
            "grid_row": null,
            "grid_template_areas": null,
            "grid_template_columns": null,
            "grid_template_rows": null,
            "height": null,
            "justify_content": null,
            "justify_items": null,
            "left": null,
            "margin": null,
            "max_height": null,
            "max_width": null,
            "min_height": null,
            "min_width": null,
            "object_fit": null,
            "object_position": null,
            "order": null,
            "overflow": null,
            "overflow_x": null,
            "overflow_y": null,
            "padding": null,
            "right": null,
            "top": null,
            "visibility": null,
            "width": null
          }
        },
        "e01645dc8d5142bbb65ebde8b557cd98": {
          "model_module": "@jupyter-widgets/controls",
          "model_name": "ProgressStyleModel",
          "model_module_version": "1.5.0",
          "state": {
            "_model_module": "@jupyter-widgets/controls",
            "_model_module_version": "1.5.0",
            "_model_name": "ProgressStyleModel",
            "_view_count": null,
            "_view_module": "@jupyter-widgets/base",
            "_view_module_version": "1.2.0",
            "_view_name": "StyleView",
            "bar_color": null,
            "description_width": ""
          }
        },
        "661b1dbfbb2a47c8bedfabb8d70f5a89": {
          "model_module": "@jupyter-widgets/base",
          "model_name": "LayoutModel",
          "model_module_version": "1.2.0",
          "state": {
            "_model_module": "@jupyter-widgets/base",
            "_model_module_version": "1.2.0",
            "_model_name": "LayoutModel",
            "_view_count": null,
            "_view_module": "@jupyter-widgets/base",
            "_view_module_version": "1.2.0",
            "_view_name": "LayoutView",
            "align_content": null,
            "align_items": null,
            "align_self": null,
            "border": null,
            "bottom": null,
            "display": null,
            "flex": null,
            "flex_flow": null,
            "grid_area": null,
            "grid_auto_columns": null,
            "grid_auto_flow": null,
            "grid_auto_rows": null,
            "grid_column": null,
            "grid_gap": null,
            "grid_row": null,
            "grid_template_areas": null,
            "grid_template_columns": null,
            "grid_template_rows": null,
            "height": null,
            "justify_content": null,
            "justify_items": null,
            "left": null,
            "margin": null,
            "max_height": null,
            "max_width": null,
            "min_height": null,
            "min_width": null,
            "object_fit": null,
            "object_position": null,
            "order": null,
            "overflow": null,
            "overflow_x": null,
            "overflow_y": null,
            "padding": null,
            "right": null,
            "top": null,
            "visibility": null,
            "width": null
          }
        },
        "8d643422af864e8e97e0b836eb6c7ef8": {
          "model_module": "@jupyter-widgets/controls",
          "model_name": "DescriptionStyleModel",
          "model_module_version": "1.5.0",
          "state": {
            "_model_module": "@jupyter-widgets/controls",
            "_model_module_version": "1.5.0",
            "_model_name": "DescriptionStyleModel",
            "_view_count": null,
            "_view_module": "@jupyter-widgets/base",
            "_view_module_version": "1.2.0",
            "_view_name": "StyleView",
            "description_width": ""
          }
        },
        "c462474824f84888938e0f0f95de69c8": {
          "model_module": "@jupyter-widgets/controls",
          "model_name": "HBoxModel",
          "model_module_version": "1.5.0",
          "state": {
            "_dom_classes": [],
            "_model_module": "@jupyter-widgets/controls",
            "_model_module_version": "1.5.0",
            "_model_name": "HBoxModel",
            "_view_count": null,
            "_view_module": "@jupyter-widgets/controls",
            "_view_module_version": "1.5.0",
            "_view_name": "HBoxView",
            "box_style": "",
            "children": [
              "IPY_MODEL_4cbb11459a3547268c921ed647c8af39",
              "IPY_MODEL_1ddbb29fb27144a8afe7b074ad9e1f30",
              "IPY_MODEL_bf323c03dd35456799c831b15e9062b2"
            ],
            "layout": "IPY_MODEL_37737ed5ce614dcd8a9cf5f8cf75144f"
          }
        },
        "4cbb11459a3547268c921ed647c8af39": {
          "model_module": "@jupyter-widgets/controls",
          "model_name": "HTMLModel",
          "model_module_version": "1.5.0",
          "state": {
            "_dom_classes": [],
            "_model_module": "@jupyter-widgets/controls",
            "_model_module_version": "1.5.0",
            "_model_name": "HTMLModel",
            "_view_count": null,
            "_view_module": "@jupyter-widgets/controls",
            "_view_module_version": "1.5.0",
            "_view_name": "HTMLView",
            "description": "",
            "description_tooltip": null,
            "layout": "IPY_MODEL_303a35602c3e4fe5935a2141623ae9b4",
            "placeholder": "​",
            "style": "IPY_MODEL_c9caced8ff6d4d78a6493481affb5d93",
            "value": "train-00000-of-00001.parquet: 100%"
          }
        },
        "1ddbb29fb27144a8afe7b074ad9e1f30": {
          "model_module": "@jupyter-widgets/controls",
          "model_name": "FloatProgressModel",
          "model_module_version": "1.5.0",
          "state": {
            "_dom_classes": [],
            "_model_module": "@jupyter-widgets/controls",
            "_model_module_version": "1.5.0",
            "_model_name": "FloatProgressModel",
            "_view_count": null,
            "_view_module": "@jupyter-widgets/controls",
            "_view_module_version": "1.5.0",
            "_view_name": "ProgressView",
            "bar_style": "success",
            "description": "",
            "description_tooltip": null,
            "layout": "IPY_MODEL_b03ab62832504446abd0d2566b5ff505",
            "max": 79210071,
            "min": 0,
            "orientation": "horizontal",
            "style": "IPY_MODEL_1f83207cc337417e8a3092028b5877ad",
            "value": 79210071
          }
        },
        "bf323c03dd35456799c831b15e9062b2": {
          "model_module": "@jupyter-widgets/controls",
          "model_name": "HTMLModel",
          "model_module_version": "1.5.0",
          "state": {
            "_dom_classes": [],
            "_model_module": "@jupyter-widgets/controls",
            "_model_module_version": "1.5.0",
            "_model_name": "HTMLModel",
            "_view_count": null,
            "_view_module": "@jupyter-widgets/controls",
            "_view_module_version": "1.5.0",
            "_view_name": "HTMLView",
            "description": "",
            "description_tooltip": null,
            "layout": "IPY_MODEL_641159f6255749dabec757e651ad8cc1",
            "placeholder": "​",
            "style": "IPY_MODEL_1829339a123c403da32f2a867e5f58d4",
            "value": " 79.2M/79.2M [00:00&lt;00:00, 152MB/s]"
          }
        },
        "37737ed5ce614dcd8a9cf5f8cf75144f": {
          "model_module": "@jupyter-widgets/base",
          "model_name": "LayoutModel",
          "model_module_version": "1.2.0",
          "state": {
            "_model_module": "@jupyter-widgets/base",
            "_model_module_version": "1.2.0",
            "_model_name": "LayoutModel",
            "_view_count": null,
            "_view_module": "@jupyter-widgets/base",
            "_view_module_version": "1.2.0",
            "_view_name": "LayoutView",
            "align_content": null,
            "align_items": null,
            "align_self": null,
            "border": null,
            "bottom": null,
            "display": null,
            "flex": null,
            "flex_flow": null,
            "grid_area": null,
            "grid_auto_columns": null,
            "grid_auto_flow": null,
            "grid_auto_rows": null,
            "grid_column": null,
            "grid_gap": null,
            "grid_row": null,
            "grid_template_areas": null,
            "grid_template_columns": null,
            "grid_template_rows": null,
            "height": null,
            "justify_content": null,
            "justify_items": null,
            "left": null,
            "margin": null,
            "max_height": null,
            "max_width": null,
            "min_height": null,
            "min_width": null,
            "object_fit": null,
            "object_position": null,
            "order": null,
            "overflow": null,
            "overflow_x": null,
            "overflow_y": null,
            "padding": null,
            "right": null,
            "top": null,
            "visibility": null,
            "width": null
          }
        },
        "303a35602c3e4fe5935a2141623ae9b4": {
          "model_module": "@jupyter-widgets/base",
          "model_name": "LayoutModel",
          "model_module_version": "1.2.0",
          "state": {
            "_model_module": "@jupyter-widgets/base",
            "_model_module_version": "1.2.0",
            "_model_name": "LayoutModel",
            "_view_count": null,
            "_view_module": "@jupyter-widgets/base",
            "_view_module_version": "1.2.0",
            "_view_name": "LayoutView",
            "align_content": null,
            "align_items": null,
            "align_self": null,
            "border": null,
            "bottom": null,
            "display": null,
            "flex": null,
            "flex_flow": null,
            "grid_area": null,
            "grid_auto_columns": null,
            "grid_auto_flow": null,
            "grid_auto_rows": null,
            "grid_column": null,
            "grid_gap": null,
            "grid_row": null,
            "grid_template_areas": null,
            "grid_template_columns": null,
            "grid_template_rows": null,
            "height": null,
            "justify_content": null,
            "justify_items": null,
            "left": null,
            "margin": null,
            "max_height": null,
            "max_width": null,
            "min_height": null,
            "min_width": null,
            "object_fit": null,
            "object_position": null,
            "order": null,
            "overflow": null,
            "overflow_x": null,
            "overflow_y": null,
            "padding": null,
            "right": null,
            "top": null,
            "visibility": null,
            "width": null
          }
        },
        "c9caced8ff6d4d78a6493481affb5d93": {
          "model_module": "@jupyter-widgets/controls",
          "model_name": "DescriptionStyleModel",
          "model_module_version": "1.5.0",
          "state": {
            "_model_module": "@jupyter-widgets/controls",
            "_model_module_version": "1.5.0",
            "_model_name": "DescriptionStyleModel",
            "_view_count": null,
            "_view_module": "@jupyter-widgets/base",
            "_view_module_version": "1.2.0",
            "_view_name": "StyleView",
            "description_width": ""
          }
        },
        "b03ab62832504446abd0d2566b5ff505": {
          "model_module": "@jupyter-widgets/base",
          "model_name": "LayoutModel",
          "model_module_version": "1.2.0",
          "state": {
            "_model_module": "@jupyter-widgets/base",
            "_model_module_version": "1.2.0",
            "_model_name": "LayoutModel",
            "_view_count": null,
            "_view_module": "@jupyter-widgets/base",
            "_view_module_version": "1.2.0",
            "_view_name": "LayoutView",
            "align_content": null,
            "align_items": null,
            "align_self": null,
            "border": null,
            "bottom": null,
            "display": null,
            "flex": null,
            "flex_flow": null,
            "grid_area": null,
            "grid_auto_columns": null,
            "grid_auto_flow": null,
            "grid_auto_rows": null,
            "grid_column": null,
            "grid_gap": null,
            "grid_row": null,
            "grid_template_areas": null,
            "grid_template_columns": null,
            "grid_template_rows": null,
            "height": null,
            "justify_content": null,
            "justify_items": null,
            "left": null,
            "margin": null,
            "max_height": null,
            "max_width": null,
            "min_height": null,
            "min_width": null,
            "object_fit": null,
            "object_position": null,
            "order": null,
            "overflow": null,
            "overflow_x": null,
            "overflow_y": null,
            "padding": null,
            "right": null,
            "top": null,
            "visibility": null,
            "width": null
          }
        },
        "1f83207cc337417e8a3092028b5877ad": {
          "model_module": "@jupyter-widgets/controls",
          "model_name": "ProgressStyleModel",
          "model_module_version": "1.5.0",
          "state": {
            "_model_module": "@jupyter-widgets/controls",
            "_model_module_version": "1.5.0",
            "_model_name": "ProgressStyleModel",
            "_view_count": null,
            "_view_module": "@jupyter-widgets/base",
            "_view_module_version": "1.2.0",
            "_view_name": "StyleView",
            "bar_color": null,
            "description_width": ""
          }
        },
        "641159f6255749dabec757e651ad8cc1": {
          "model_module": "@jupyter-widgets/base",
          "model_name": "LayoutModel",
          "model_module_version": "1.2.0",
          "state": {
            "_model_module": "@jupyter-widgets/base",
            "_model_module_version": "1.2.0",
            "_model_name": "LayoutModel",
            "_view_count": null,
            "_view_module": "@jupyter-widgets/base",
            "_view_module_version": "1.2.0",
            "_view_name": "LayoutView",
            "align_content": null,
            "align_items": null,
            "align_self": null,
            "border": null,
            "bottom": null,
            "display": null,
            "flex": null,
            "flex_flow": null,
            "grid_area": null,
            "grid_auto_columns": null,
            "grid_auto_flow": null,
            "grid_auto_rows": null,
            "grid_column": null,
            "grid_gap": null,
            "grid_row": null,
            "grid_template_areas": null,
            "grid_template_columns": null,
            "grid_template_rows": null,
            "height": null,
            "justify_content": null,
            "justify_items": null,
            "left": null,
            "margin": null,
            "max_height": null,
            "max_width": null,
            "min_height": null,
            "min_width": null,
            "object_fit": null,
            "object_position": null,
            "order": null,
            "overflow": null,
            "overflow_x": null,
            "overflow_y": null,
            "padding": null,
            "right": null,
            "top": null,
            "visibility": null,
            "width": null
          }
        },
        "1829339a123c403da32f2a867e5f58d4": {
          "model_module": "@jupyter-widgets/controls",
          "model_name": "DescriptionStyleModel",
          "model_module_version": "1.5.0",
          "state": {
            "_model_module": "@jupyter-widgets/controls",
            "_model_module_version": "1.5.0",
            "_model_name": "DescriptionStyleModel",
            "_view_count": null,
            "_view_module": "@jupyter-widgets/base",
            "_view_module_version": "1.2.0",
            "_view_name": "StyleView",
            "description_width": ""
          }
        },
        "fd21dd4b918541298e6f3f3a6147d21f": {
          "model_module": "@jupyter-widgets/controls",
          "model_name": "HBoxModel",
          "model_module_version": "1.5.0",
          "state": {
            "_dom_classes": [],
            "_model_module": "@jupyter-widgets/controls",
            "_model_module_version": "1.5.0",
            "_model_name": "HBoxModel",
            "_view_count": null,
            "_view_module": "@jupyter-widgets/controls",
            "_view_module_version": "1.5.0",
            "_view_name": "HBoxView",
            "box_style": "",
            "children": [
              "IPY_MODEL_478ea90ea76649c488fe22341ee30e20",
              "IPY_MODEL_1421796339ce429787591c3bbf1de19d",
              "IPY_MODEL_3ff526b299b34a27bb01428093980481"
            ],
            "layout": "IPY_MODEL_facc3ec8dbb6419eaa1cba88ec3b3537"
          }
        },
        "478ea90ea76649c488fe22341ee30e20": {
          "model_module": "@jupyter-widgets/controls",
          "model_name": "HTMLModel",
          "model_module_version": "1.5.0",
          "state": {
            "_dom_classes": [],
            "_model_module": "@jupyter-widgets/controls",
            "_model_module_version": "1.5.0",
            "_model_name": "HTMLModel",
            "_view_count": null,
            "_view_module": "@jupyter-widgets/controls",
            "_view_module_version": "1.5.0",
            "_view_name": "HTMLView",
            "description": "",
            "description_tooltip": null,
            "layout": "IPY_MODEL_7b38c54e61a745969e3fbdc8959e7eda",
            "placeholder": "​",
            "style": "IPY_MODEL_febb8cdab35d43ffb675dbc330fbb73b",
            "value": "Generating train split: 100%"
          }
        },
        "1421796339ce429787591c3bbf1de19d": {
          "model_module": "@jupyter-widgets/controls",
          "model_name": "FloatProgressModel",
          "model_module_version": "1.5.0",
          "state": {
            "_dom_classes": [],
            "_model_module": "@jupyter-widgets/controls",
            "_model_module_version": "1.5.0",
            "_model_name": "FloatProgressModel",
            "_view_count": null,
            "_view_module": "@jupyter-widgets/controls",
            "_view_module_version": "1.5.0",
            "_view_name": "ProgressView",
            "bar_style": "success",
            "description": "",
            "description_tooltip": null,
            "layout": "IPY_MODEL_c5457c4c956b43b1818396db0d58342c",
            "max": 12859,
            "min": 0,
            "orientation": "horizontal",
            "style": "IPY_MODEL_815aaa4a718f4abba74d638a187432aa",
            "value": 12859
          }
        },
        "3ff526b299b34a27bb01428093980481": {
          "model_module": "@jupyter-widgets/controls",
          "model_name": "HTMLModel",
          "model_module_version": "1.5.0",
          "state": {
            "_dom_classes": [],
            "_model_module": "@jupyter-widgets/controls",
            "_model_module_version": "1.5.0",
            "_model_name": "HTMLModel",
            "_view_count": null,
            "_view_module": "@jupyter-widgets/controls",
            "_view_module_version": "1.5.0",
            "_view_name": "HTMLView",
            "description": "",
            "description_tooltip": null,
            "layout": "IPY_MODEL_14fb659dc4514b60959d4517a931fad5",
            "placeholder": "​",
            "style": "IPY_MODEL_14078d0303b7481881f067844ba9683a",
            "value": " 12859/12859 [00:00&lt;00:00, 18805.46 examples/s]"
          }
        },
        "facc3ec8dbb6419eaa1cba88ec3b3537": {
          "model_module": "@jupyter-widgets/base",
          "model_name": "LayoutModel",
          "model_module_version": "1.2.0",
          "state": {
            "_model_module": "@jupyter-widgets/base",
            "_model_module_version": "1.2.0",
            "_model_name": "LayoutModel",
            "_view_count": null,
            "_view_module": "@jupyter-widgets/base",
            "_view_module_version": "1.2.0",
            "_view_name": "LayoutView",
            "align_content": null,
            "align_items": null,
            "align_self": null,
            "border": null,
            "bottom": null,
            "display": null,
            "flex": null,
            "flex_flow": null,
            "grid_area": null,
            "grid_auto_columns": null,
            "grid_auto_flow": null,
            "grid_auto_rows": null,
            "grid_column": null,
            "grid_gap": null,
            "grid_row": null,
            "grid_template_areas": null,
            "grid_template_columns": null,
            "grid_template_rows": null,
            "height": null,
            "justify_content": null,
            "justify_items": null,
            "left": null,
            "margin": null,
            "max_height": null,
            "max_width": null,
            "min_height": null,
            "min_width": null,
            "object_fit": null,
            "object_position": null,
            "order": null,
            "overflow": null,
            "overflow_x": null,
            "overflow_y": null,
            "padding": null,
            "right": null,
            "top": null,
            "visibility": null,
            "width": null
          }
        },
        "7b38c54e61a745969e3fbdc8959e7eda": {
          "model_module": "@jupyter-widgets/base",
          "model_name": "LayoutModel",
          "model_module_version": "1.2.0",
          "state": {
            "_model_module": "@jupyter-widgets/base",
            "_model_module_version": "1.2.0",
            "_model_name": "LayoutModel",
            "_view_count": null,
            "_view_module": "@jupyter-widgets/base",
            "_view_module_version": "1.2.0",
            "_view_name": "LayoutView",
            "align_content": null,
            "align_items": null,
            "align_self": null,
            "border": null,
            "bottom": null,
            "display": null,
            "flex": null,
            "flex_flow": null,
            "grid_area": null,
            "grid_auto_columns": null,
            "grid_auto_flow": null,
            "grid_auto_rows": null,
            "grid_column": null,
            "grid_gap": null,
            "grid_row": null,
            "grid_template_areas": null,
            "grid_template_columns": null,
            "grid_template_rows": null,
            "height": null,
            "justify_content": null,
            "justify_items": null,
            "left": null,
            "margin": null,
            "max_height": null,
            "max_width": null,
            "min_height": null,
            "min_width": null,
            "object_fit": null,
            "object_position": null,
            "order": null,
            "overflow": null,
            "overflow_x": null,
            "overflow_y": null,
            "padding": null,
            "right": null,
            "top": null,
            "visibility": null,
            "width": null
          }
        },
        "febb8cdab35d43ffb675dbc330fbb73b": {
          "model_module": "@jupyter-widgets/controls",
          "model_name": "DescriptionStyleModel",
          "model_module_version": "1.5.0",
          "state": {
            "_model_module": "@jupyter-widgets/controls",
            "_model_module_version": "1.5.0",
            "_model_name": "DescriptionStyleModel",
            "_view_count": null,
            "_view_module": "@jupyter-widgets/base",
            "_view_module_version": "1.2.0",
            "_view_name": "StyleView",
            "description_width": ""
          }
        },
        "c5457c4c956b43b1818396db0d58342c": {
          "model_module": "@jupyter-widgets/base",
          "model_name": "LayoutModel",
          "model_module_version": "1.2.0",
          "state": {
            "_model_module": "@jupyter-widgets/base",
            "_model_module_version": "1.2.0",
            "_model_name": "LayoutModel",
            "_view_count": null,
            "_view_module": "@jupyter-widgets/base",
            "_view_module_version": "1.2.0",
            "_view_name": "LayoutView",
            "align_content": null,
            "align_items": null,
            "align_self": null,
            "border": null,
            "bottom": null,
            "display": null,
            "flex": null,
            "flex_flow": null,
            "grid_area": null,
            "grid_auto_columns": null,
            "grid_auto_flow": null,
            "grid_auto_rows": null,
            "grid_column": null,
            "grid_gap": null,
            "grid_row": null,
            "grid_template_areas": null,
            "grid_template_columns": null,
            "grid_template_rows": null,
            "height": null,
            "justify_content": null,
            "justify_items": null,
            "left": null,
            "margin": null,
            "max_height": null,
            "max_width": null,
            "min_height": null,
            "min_width": null,
            "object_fit": null,
            "object_position": null,
            "order": null,
            "overflow": null,
            "overflow_x": null,
            "overflow_y": null,
            "padding": null,
            "right": null,
            "top": null,
            "visibility": null,
            "width": null
          }
        },
        "815aaa4a718f4abba74d638a187432aa": {
          "model_module": "@jupyter-widgets/controls",
          "model_name": "ProgressStyleModel",
          "model_module_version": "1.5.0",
          "state": {
            "_model_module": "@jupyter-widgets/controls",
            "_model_module_version": "1.5.0",
            "_model_name": "ProgressStyleModel",
            "_view_count": null,
            "_view_module": "@jupyter-widgets/base",
            "_view_module_version": "1.2.0",
            "_view_name": "StyleView",
            "bar_color": null,
            "description_width": ""
          }
        },
        "14fb659dc4514b60959d4517a931fad5": {
          "model_module": "@jupyter-widgets/base",
          "model_name": "LayoutModel",
          "model_module_version": "1.2.0",
          "state": {
            "_model_module": "@jupyter-widgets/base",
            "_model_module_version": "1.2.0",
            "_model_name": "LayoutModel",
            "_view_count": null,
            "_view_module": "@jupyter-widgets/base",
            "_view_module_version": "1.2.0",
            "_view_name": "LayoutView",
            "align_content": null,
            "align_items": null,
            "align_self": null,
            "border": null,
            "bottom": null,
            "display": null,
            "flex": null,
            "flex_flow": null,
            "grid_area": null,
            "grid_auto_columns": null,
            "grid_auto_flow": null,
            "grid_auto_rows": null,
            "grid_column": null,
            "grid_gap": null,
            "grid_row": null,
            "grid_template_areas": null,
            "grid_template_columns": null,
            "grid_template_rows": null,
            "height": null,
            "justify_content": null,
            "justify_items": null,
            "left": null,
            "margin": null,
            "max_height": null,
            "max_width": null,
            "min_height": null,
            "min_width": null,
            "object_fit": null,
            "object_position": null,
            "order": null,
            "overflow": null,
            "overflow_x": null,
            "overflow_y": null,
            "padding": null,
            "right": null,
            "top": null,
            "visibility": null,
            "width": null
          }
        },
        "14078d0303b7481881f067844ba9683a": {
          "model_module": "@jupyter-widgets/controls",
          "model_name": "DescriptionStyleModel",
          "model_module_version": "1.5.0",
          "state": {
            "_model_module": "@jupyter-widgets/controls",
            "_model_module_version": "1.5.0",
            "_model_name": "DescriptionStyleModel",
            "_view_count": null,
            "_view_module": "@jupyter-widgets/base",
            "_view_module_version": "1.2.0",
            "_view_name": "StyleView",
            "description_width": ""
          }
        },
        "1110291dcc0041afa5a11ad1944aa53e": {
          "model_module": "@jupyter-widgets/controls",
          "model_name": "HBoxModel",
          "model_module_version": "1.5.0",
          "state": {
            "_dom_classes": [],
            "_model_module": "@jupyter-widgets/controls",
            "_model_module_version": "1.5.0",
            "_model_name": "HBoxModel",
            "_view_count": null,
            "_view_module": "@jupyter-widgets/controls",
            "_view_module_version": "1.5.0",
            "_view_name": "HBoxView",
            "box_style": "",
            "children": [
              "IPY_MODEL_37f7586b08ad4ac0b25a9a137414e925",
              "IPY_MODEL_f475095b8e504c46aa3c0a375b2cec19",
              "IPY_MODEL_0247dd79403c411da121f5a76a9f4967"
            ],
            "layout": "IPY_MODEL_f01ec8eed86a413dbb63e3f610245d83"
          }
        },
        "37f7586b08ad4ac0b25a9a137414e925": {
          "model_module": "@jupyter-widgets/controls",
          "model_name": "HTMLModel",
          "model_module_version": "1.5.0",
          "state": {
            "_dom_classes": [],
            "_model_module": "@jupyter-widgets/controls",
            "_model_module_version": "1.5.0",
            "_model_name": "HTMLModel",
            "_view_count": null,
            "_view_module": "@jupyter-widgets/controls",
            "_view_module_version": "1.5.0",
            "_view_name": "HTMLView",
            "description": "",
            "description_tooltip": null,
            "layout": "IPY_MODEL_6b78d9fdff874bb5931aa917338668a9",
            "placeholder": "​",
            "style": "IPY_MODEL_42f936f32e53461fa211e5c1d07bd2b3",
            "value": "Filter: 100%"
          }
        },
        "f475095b8e504c46aa3c0a375b2cec19": {
          "model_module": "@jupyter-widgets/controls",
          "model_name": "FloatProgressModel",
          "model_module_version": "1.5.0",
          "state": {
            "_dom_classes": [],
            "_model_module": "@jupyter-widgets/controls",
            "_model_module_version": "1.5.0",
            "_model_name": "FloatProgressModel",
            "_view_count": null,
            "_view_module": "@jupyter-widgets/controls",
            "_view_module_version": "1.5.0",
            "_view_name": "ProgressView",
            "bar_style": "success",
            "description": "",
            "description_tooltip": null,
            "layout": "IPY_MODEL_194d7d6106b94fc7bc027075d02e7061",
            "max": 12859,
            "min": 0,
            "orientation": "horizontal",
            "style": "IPY_MODEL_7cbe33500a4c4d8c812fa0eb8b498b59",
            "value": 12859
          }
        },
        "0247dd79403c411da121f5a76a9f4967": {
          "model_module": "@jupyter-widgets/controls",
          "model_name": "HTMLModel",
          "model_module_version": "1.5.0",
          "state": {
            "_dom_classes": [],
            "_model_module": "@jupyter-widgets/controls",
            "_model_module_version": "1.5.0",
            "_model_name": "HTMLModel",
            "_view_count": null,
            "_view_module": "@jupyter-widgets/controls",
            "_view_module_version": "1.5.0",
            "_view_name": "HTMLView",
            "description": "",
            "description_tooltip": null,
            "layout": "IPY_MODEL_00706c1d01464205bef966afc51c279c",
            "placeholder": "​",
            "style": "IPY_MODEL_fb3728e9e1464665ac24f75281bd1e79",
            "value": " 12859/12859 [00:01&lt;00:00, 5492.23 examples/s]"
          }
        },
        "f01ec8eed86a413dbb63e3f610245d83": {
          "model_module": "@jupyter-widgets/base",
          "model_name": "LayoutModel",
          "model_module_version": "1.2.0",
          "state": {
            "_model_module": "@jupyter-widgets/base",
            "_model_module_version": "1.2.0",
            "_model_name": "LayoutModel",
            "_view_count": null,
            "_view_module": "@jupyter-widgets/base",
            "_view_module_version": "1.2.0",
            "_view_name": "LayoutView",
            "align_content": null,
            "align_items": null,
            "align_self": null,
            "border": null,
            "bottom": null,
            "display": null,
            "flex": null,
            "flex_flow": null,
            "grid_area": null,
            "grid_auto_columns": null,
            "grid_auto_flow": null,
            "grid_auto_rows": null,
            "grid_column": null,
            "grid_gap": null,
            "grid_row": null,
            "grid_template_areas": null,
            "grid_template_columns": null,
            "grid_template_rows": null,
            "height": null,
            "justify_content": null,
            "justify_items": null,
            "left": null,
            "margin": null,
            "max_height": null,
            "max_width": null,
            "min_height": null,
            "min_width": null,
            "object_fit": null,
            "object_position": null,
            "order": null,
            "overflow": null,
            "overflow_x": null,
            "overflow_y": null,
            "padding": null,
            "right": null,
            "top": null,
            "visibility": null,
            "width": null
          }
        },
        "6b78d9fdff874bb5931aa917338668a9": {
          "model_module": "@jupyter-widgets/base",
          "model_name": "LayoutModel",
          "model_module_version": "1.2.0",
          "state": {
            "_model_module": "@jupyter-widgets/base",
            "_model_module_version": "1.2.0",
            "_model_name": "LayoutModel",
            "_view_count": null,
            "_view_module": "@jupyter-widgets/base",
            "_view_module_version": "1.2.0",
            "_view_name": "LayoutView",
            "align_content": null,
            "align_items": null,
            "align_self": null,
            "border": null,
            "bottom": null,
            "display": null,
            "flex": null,
            "flex_flow": null,
            "grid_area": null,
            "grid_auto_columns": null,
            "grid_auto_flow": null,
            "grid_auto_rows": null,
            "grid_column": null,
            "grid_gap": null,
            "grid_row": null,
            "grid_template_areas": null,
            "grid_template_columns": null,
            "grid_template_rows": null,
            "height": null,
            "justify_content": null,
            "justify_items": null,
            "left": null,
            "margin": null,
            "max_height": null,
            "max_width": null,
            "min_height": null,
            "min_width": null,
            "object_fit": null,
            "object_position": null,
            "order": null,
            "overflow": null,
            "overflow_x": null,
            "overflow_y": null,
            "padding": null,
            "right": null,
            "top": null,
            "visibility": null,
            "width": null
          }
        },
        "42f936f32e53461fa211e5c1d07bd2b3": {
          "model_module": "@jupyter-widgets/controls",
          "model_name": "DescriptionStyleModel",
          "model_module_version": "1.5.0",
          "state": {
            "_model_module": "@jupyter-widgets/controls",
            "_model_module_version": "1.5.0",
            "_model_name": "DescriptionStyleModel",
            "_view_count": null,
            "_view_module": "@jupyter-widgets/base",
            "_view_module_version": "1.2.0",
            "_view_name": "StyleView",
            "description_width": ""
          }
        },
        "194d7d6106b94fc7bc027075d02e7061": {
          "model_module": "@jupyter-widgets/base",
          "model_name": "LayoutModel",
          "model_module_version": "1.2.0",
          "state": {
            "_model_module": "@jupyter-widgets/base",
            "_model_module_version": "1.2.0",
            "_model_name": "LayoutModel",
            "_view_count": null,
            "_view_module": "@jupyter-widgets/base",
            "_view_module_version": "1.2.0",
            "_view_name": "LayoutView",
            "align_content": null,
            "align_items": null,
            "align_self": null,
            "border": null,
            "bottom": null,
            "display": null,
            "flex": null,
            "flex_flow": null,
            "grid_area": null,
            "grid_auto_columns": null,
            "grid_auto_flow": null,
            "grid_auto_rows": null,
            "grid_column": null,
            "grid_gap": null,
            "grid_row": null,
            "grid_template_areas": null,
            "grid_template_columns": null,
            "grid_template_rows": null,
            "height": null,
            "justify_content": null,
            "justify_items": null,
            "left": null,
            "margin": null,
            "max_height": null,
            "max_width": null,
            "min_height": null,
            "min_width": null,
            "object_fit": null,
            "object_position": null,
            "order": null,
            "overflow": null,
            "overflow_x": null,
            "overflow_y": null,
            "padding": null,
            "right": null,
            "top": null,
            "visibility": null,
            "width": null
          }
        },
        "7cbe33500a4c4d8c812fa0eb8b498b59": {
          "model_module": "@jupyter-widgets/controls",
          "model_name": "ProgressStyleModel",
          "model_module_version": "1.5.0",
          "state": {
            "_model_module": "@jupyter-widgets/controls",
            "_model_module_version": "1.5.0",
            "_model_name": "ProgressStyleModel",
            "_view_count": null,
            "_view_module": "@jupyter-widgets/base",
            "_view_module_version": "1.2.0",
            "_view_name": "StyleView",
            "bar_color": null,
            "description_width": ""
          }
        },
        "00706c1d01464205bef966afc51c279c": {
          "model_module": "@jupyter-widgets/base",
          "model_name": "LayoutModel",
          "model_module_version": "1.2.0",
          "state": {
            "_model_module": "@jupyter-widgets/base",
            "_model_module_version": "1.2.0",
            "_model_name": "LayoutModel",
            "_view_count": null,
            "_view_module": "@jupyter-widgets/base",
            "_view_module_version": "1.2.0",
            "_view_name": "LayoutView",
            "align_content": null,
            "align_items": null,
            "align_self": null,
            "border": null,
            "bottom": null,
            "display": null,
            "flex": null,
            "flex_flow": null,
            "grid_area": null,
            "grid_auto_columns": null,
            "grid_auto_flow": null,
            "grid_auto_rows": null,
            "grid_column": null,
            "grid_gap": null,
            "grid_row": null,
            "grid_template_areas": null,
            "grid_template_columns": null,
            "grid_template_rows": null,
            "height": null,
            "justify_content": null,
            "justify_items": null,
            "left": null,
            "margin": null,
            "max_height": null,
            "max_width": null,
            "min_height": null,
            "min_width": null,
            "object_fit": null,
            "object_position": null,
            "order": null,
            "overflow": null,
            "overflow_x": null,
            "overflow_y": null,
            "padding": null,
            "right": null,
            "top": null,
            "visibility": null,
            "width": null
          }
        },
        "fb3728e9e1464665ac24f75281bd1e79": {
          "model_module": "@jupyter-widgets/controls",
          "model_name": "DescriptionStyleModel",
          "model_module_version": "1.5.0",
          "state": {
            "_model_module": "@jupyter-widgets/controls",
            "_model_module_version": "1.5.0",
            "_model_name": "DescriptionStyleModel",
            "_view_count": null,
            "_view_module": "@jupyter-widgets/base",
            "_view_module_version": "1.2.0",
            "_view_name": "StyleView",
            "description_width": ""
          }
        },
        "7472d10e62b3488695d57654b12ae3c7": {
          "model_module": "@jupyter-widgets/controls",
          "model_name": "HBoxModel",
          "model_module_version": "1.5.0",
          "state": {
            "_dom_classes": [],
            "_model_module": "@jupyter-widgets/controls",
            "_model_module_version": "1.5.0",
            "_model_name": "HBoxModel",
            "_view_count": null,
            "_view_module": "@jupyter-widgets/controls",
            "_view_module_version": "1.5.0",
            "_view_name": "HBoxView",
            "box_style": "",
            "children": [
              "IPY_MODEL_ee63d520a741453f824c72161cb151ea",
              "IPY_MODEL_08748d76a508449ca4b0b911d43c24c7",
              "IPY_MODEL_4a5cb6991d734b87ad0f838e358c2b45"
            ],
            "layout": "IPY_MODEL_bd7151b9ac6c45bc832872470ff03e6c"
          }
        },
        "ee63d520a741453f824c72161cb151ea": {
          "model_module": "@jupyter-widgets/controls",
          "model_name": "HTMLModel",
          "model_module_version": "1.5.0",
          "state": {
            "_dom_classes": [],
            "_model_module": "@jupyter-widgets/controls",
            "_model_module_version": "1.5.0",
            "_model_name": "HTMLModel",
            "_view_count": null,
            "_view_module": "@jupyter-widgets/controls",
            "_view_module_version": "1.5.0",
            "_view_name": "HTMLView",
            "description": "",
            "description_tooltip": null,
            "layout": "IPY_MODEL_b2c7218e4b97459aa994a24cbb7dea12",
            "placeholder": "​",
            "style": "IPY_MODEL_6f606fa61e5148d09ecb59d0fc52fb7e",
            "value": "Filter: 100%"
          }
        },
        "08748d76a508449ca4b0b911d43c24c7": {
          "model_module": "@jupyter-widgets/controls",
          "model_name": "FloatProgressModel",
          "model_module_version": "1.5.0",
          "state": {
            "_dom_classes": [],
            "_model_module": "@jupyter-widgets/controls",
            "_model_module_version": "1.5.0",
            "_model_name": "FloatProgressModel",
            "_view_count": null,
            "_view_module": "@jupyter-widgets/controls",
            "_view_module_version": "1.5.0",
            "_view_name": "ProgressView",
            "bar_style": "success",
            "description": "",
            "description_tooltip": null,
            "layout": "IPY_MODEL_41449e6ccf0e4935967c23f53d9dde3d",
            "max": 9499,
            "min": 0,
            "orientation": "horizontal",
            "style": "IPY_MODEL_90e486cf55c040dc80887c492acabdfd",
            "value": 9499
          }
        },
        "4a5cb6991d734b87ad0f838e358c2b45": {
          "model_module": "@jupyter-widgets/controls",
          "model_name": "HTMLModel",
          "model_module_version": "1.5.0",
          "state": {
            "_dom_classes": [],
            "_model_module": "@jupyter-widgets/controls",
            "_model_module_version": "1.5.0",
            "_model_name": "HTMLModel",
            "_view_count": null,
            "_view_module": "@jupyter-widgets/controls",
            "_view_module_version": "1.5.0",
            "_view_name": "HTMLView",
            "description": "",
            "description_tooltip": null,
            "layout": "IPY_MODEL_10207248f8af484eae71ac9eb3fd872b",
            "placeholder": "​",
            "style": "IPY_MODEL_9a3e91781f064c5ca8baa00834d88cf9",
            "value": " 9499/9499 [00:00&lt;00:00, 11889.69 examples/s]"
          }
        },
        "bd7151b9ac6c45bc832872470ff03e6c": {
          "model_module": "@jupyter-widgets/base",
          "model_name": "LayoutModel",
          "model_module_version": "1.2.0",
          "state": {
            "_model_module": "@jupyter-widgets/base",
            "_model_module_version": "1.2.0",
            "_model_name": "LayoutModel",
            "_view_count": null,
            "_view_module": "@jupyter-widgets/base",
            "_view_module_version": "1.2.0",
            "_view_name": "LayoutView",
            "align_content": null,
            "align_items": null,
            "align_self": null,
            "border": null,
            "bottom": null,
            "display": null,
            "flex": null,
            "flex_flow": null,
            "grid_area": null,
            "grid_auto_columns": null,
            "grid_auto_flow": null,
            "grid_auto_rows": null,
            "grid_column": null,
            "grid_gap": null,
            "grid_row": null,
            "grid_template_areas": null,
            "grid_template_columns": null,
            "grid_template_rows": null,
            "height": null,
            "justify_content": null,
            "justify_items": null,
            "left": null,
            "margin": null,
            "max_height": null,
            "max_width": null,
            "min_height": null,
            "min_width": null,
            "object_fit": null,
            "object_position": null,
            "order": null,
            "overflow": null,
            "overflow_x": null,
            "overflow_y": null,
            "padding": null,
            "right": null,
            "top": null,
            "visibility": null,
            "width": null
          }
        },
        "b2c7218e4b97459aa994a24cbb7dea12": {
          "model_module": "@jupyter-widgets/base",
          "model_name": "LayoutModel",
          "model_module_version": "1.2.0",
          "state": {
            "_model_module": "@jupyter-widgets/base",
            "_model_module_version": "1.2.0",
            "_model_name": "LayoutModel",
            "_view_count": null,
            "_view_module": "@jupyter-widgets/base",
            "_view_module_version": "1.2.0",
            "_view_name": "LayoutView",
            "align_content": null,
            "align_items": null,
            "align_self": null,
            "border": null,
            "bottom": null,
            "display": null,
            "flex": null,
            "flex_flow": null,
            "grid_area": null,
            "grid_auto_columns": null,
            "grid_auto_flow": null,
            "grid_auto_rows": null,
            "grid_column": null,
            "grid_gap": null,
            "grid_row": null,
            "grid_template_areas": null,
            "grid_template_columns": null,
            "grid_template_rows": null,
            "height": null,
            "justify_content": null,
            "justify_items": null,
            "left": null,
            "margin": null,
            "max_height": null,
            "max_width": null,
            "min_height": null,
            "min_width": null,
            "object_fit": null,
            "object_position": null,
            "order": null,
            "overflow": null,
            "overflow_x": null,
            "overflow_y": null,
            "padding": null,
            "right": null,
            "top": null,
            "visibility": null,
            "width": null
          }
        },
        "6f606fa61e5148d09ecb59d0fc52fb7e": {
          "model_module": "@jupyter-widgets/controls",
          "model_name": "DescriptionStyleModel",
          "model_module_version": "1.5.0",
          "state": {
            "_model_module": "@jupyter-widgets/controls",
            "_model_module_version": "1.5.0",
            "_model_name": "DescriptionStyleModel",
            "_view_count": null,
            "_view_module": "@jupyter-widgets/base",
            "_view_module_version": "1.2.0",
            "_view_name": "StyleView",
            "description_width": ""
          }
        },
        "41449e6ccf0e4935967c23f53d9dde3d": {
          "model_module": "@jupyter-widgets/base",
          "model_name": "LayoutModel",
          "model_module_version": "1.2.0",
          "state": {
            "_model_module": "@jupyter-widgets/base",
            "_model_module_version": "1.2.0",
            "_model_name": "LayoutModel",
            "_view_count": null,
            "_view_module": "@jupyter-widgets/base",
            "_view_module_version": "1.2.0",
            "_view_name": "LayoutView",
            "align_content": null,
            "align_items": null,
            "align_self": null,
            "border": null,
            "bottom": null,
            "display": null,
            "flex": null,
            "flex_flow": null,
            "grid_area": null,
            "grid_auto_columns": null,
            "grid_auto_flow": null,
            "grid_auto_rows": null,
            "grid_column": null,
            "grid_gap": null,
            "grid_row": null,
            "grid_template_areas": null,
            "grid_template_columns": null,
            "grid_template_rows": null,
            "height": null,
            "justify_content": null,
            "justify_items": null,
            "left": null,
            "margin": null,
            "max_height": null,
            "max_width": null,
            "min_height": null,
            "min_width": null,
            "object_fit": null,
            "object_position": null,
            "order": null,
            "overflow": null,
            "overflow_x": null,
            "overflow_y": null,
            "padding": null,
            "right": null,
            "top": null,
            "visibility": null,
            "width": null
          }
        },
        "90e486cf55c040dc80887c492acabdfd": {
          "model_module": "@jupyter-widgets/controls",
          "model_name": "ProgressStyleModel",
          "model_module_version": "1.5.0",
          "state": {
            "_model_module": "@jupyter-widgets/controls",
            "_model_module_version": "1.5.0",
            "_model_name": "ProgressStyleModel",
            "_view_count": null,
            "_view_module": "@jupyter-widgets/base",
            "_view_module_version": "1.2.0",
            "_view_name": "StyleView",
            "bar_color": null,
            "description_width": ""
          }
        },
        "10207248f8af484eae71ac9eb3fd872b": {
          "model_module": "@jupyter-widgets/base",
          "model_name": "LayoutModel",
          "model_module_version": "1.2.0",
          "state": {
            "_model_module": "@jupyter-widgets/base",
            "_model_module_version": "1.2.0",
            "_model_name": "LayoutModel",
            "_view_count": null,
            "_view_module": "@jupyter-widgets/base",
            "_view_module_version": "1.2.0",
            "_view_name": "LayoutView",
            "align_content": null,
            "align_items": null,
            "align_self": null,
            "border": null,
            "bottom": null,
            "display": null,
            "flex": null,
            "flex_flow": null,
            "grid_area": null,
            "grid_auto_columns": null,
            "grid_auto_flow": null,
            "grid_auto_rows": null,
            "grid_column": null,
            "grid_gap": null,
            "grid_row": null,
            "grid_template_areas": null,
            "grid_template_columns": null,
            "grid_template_rows": null,
            "height": null,
            "justify_content": null,
            "justify_items": null,
            "left": null,
            "margin": null,
            "max_height": null,
            "max_width": null,
            "min_height": null,
            "min_width": null,
            "object_fit": null,
            "object_position": null,
            "order": null,
            "overflow": null,
            "overflow_x": null,
            "overflow_y": null,
            "padding": null,
            "right": null,
            "top": null,
            "visibility": null,
            "width": null
          }
        },
        "9a3e91781f064c5ca8baa00834d88cf9": {
          "model_module": "@jupyter-widgets/controls",
          "model_name": "DescriptionStyleModel",
          "model_module_version": "1.5.0",
          "state": {
            "_model_module": "@jupyter-widgets/controls",
            "_model_module_version": "1.5.0",
            "_model_name": "DescriptionStyleModel",
            "_view_count": null,
            "_view_module": "@jupyter-widgets/base",
            "_view_module_version": "1.2.0",
            "_view_name": "StyleView",
            "description_width": ""
          }
        }
      }
    }
  },
  "cells": [
    {
      "cell_type": "markdown",
      "source": [
        "# Project 2: Generating Data For Preference Tuning\n",
        "\n",
        "This guides builds upon the week 1 notebooks for [getting started](https://colab.research.google.com/drive/1oyFm3hftLneEQlUK19SELlkvUguCFrw_?usp=sharing) and [the project](https://colab.research.google.com/drive/1mje_YUaKGFpgmrACwpFLCyqWuIMN76Pe?usp=sharing). Feel free to take a look at those notebooks to freshen up your knowledge.\n",
        "\n",
        "First, install the required dependencies."
      ],
      "metadata": {
        "id": "9GByA_P6JVIu"
      }
    },
    {
      "cell_type": "code",
      "source": [
        "!pip install \"distilabel[hf-inference-endpoints]\" \"huggingface-hub\" \"textdescriptives\" \"gliclass\" \"numpy==1.26.4\" -U -q"
      ],
      "metadata": {
        "id": "bQrXFlwrSQvJ"
      },
      "execution_count": null,
      "outputs": []
    },
    {
      "cell_type": "markdown",
      "source": [
        "Next, we can log in to the Hugging Face Hub and configure our token through the login method."
      ],
      "metadata": {
        "id": "F9rGkoC4Oogq"
      }
    },
    {
      "cell_type": "code",
      "execution_count": null,
      "metadata": {
        "id": "8n0aad8KJLyO"
      },
      "outputs": [],
      "source": [
        "from huggingface_hub import login\n",
        "\n",
        "login()"
      ]
    },
    {
      "cell_type": "code",
      "source": [
        "from huggingface_hub import login\n",
        "from google.colab import userdata\n",
        "\n",
        "login(token=(userdata.get('HF_TOKEN')))"
      ],
      "metadata": {
        "id": "tEWmkBNzQStg"
      },
      "execution_count": null,
      "outputs": []
    },
    {
      "cell_type": "markdown",
      "source": [
        "## 1. Generate a dataset for preference tuning\n",
        "\n",
        "### Basic dataset\n",
        "\n",
        "We can generate data with two different model sizes where we assume the bigger one results in better results."
      ],
      "metadata": {
        "id": "YeVvra3tOtSq"
      }
    },
    {
      "cell_type": "code",
      "source": [
        "from distilabel.models.llms.huggingface import InferenceEndpointsLLM\n",
        "from distilabel.pipeline import Pipeline\n",
        "from distilabel.steps import LoadDataFromDicts\n",
        "from distilabel.steps.tasks import TextGeneration\n",
        "\n",
        "with Pipeline() as pipeline:\n",
        "    data = LoadDataFromDicts(\n",
        "        data=[{\"instruction\": \"Generate a short question about data science.\"}]\n",
        "    )\n",
        "    llm_worse = InferenceEndpointsLLM(\n",
        "        base_url=\"https://api-inference.huggingface.co/models/Qwen/Qwen2.5-1.5B-Instruct\"\n",
        "    )\n",
        "    llm_better = InferenceEndpointsLLM(\n",
        "        base_url=\"https://api-inference.huggingface.co/models/meta-llama/Llama-3.2-3B-Instruct\"\n",
        "    )\n",
        "    gen_a = TextGeneration(llm=llm_worse, output_mappings={\"generation\": \"instruction\"})\n",
        "    gen_b = TextGeneration(llm=llm_better, output_mappings={\"generation\": \"rejected\"})\n",
        "    gen_c = TextGeneration(llm=llm_better, output_mappings={\"generation\": \"chosen\"})\n",
        "    data >> gen_a >> gen_b >> gen_c\n",
        "\n",
        "if __name__ == \"__main__\":\n",
        "    username = \"uplimit\"\n",
        "    distiset = pipeline.run(use_cache=False)\n",
        "    distiset.push_to_hub(f\"{username}/uplimit-synthetic-data-week-2-basic\")"
      ],
      "metadata": {
        "id": "zPovEV6bOs_Y"
      },
      "execution_count": null,
      "outputs": []
    },
    {
      "cell_type": "markdown",
      "source": [
        "### With response evolution\n",
        "\n",
        "We can evolve the responses, where a evolved respone is likely of better quality and therefore the preferred answer."
      ],
      "metadata": {
        "id": "guKAr2z_gL6D"
      }
    },
    {
      "cell_type": "code",
      "source": [
        "from distilabel.models.llms.huggingface import InferenceEndpointsLLM\n",
        "from distilabel.pipeline import Pipeline\n",
        "from distilabel.steps import LoadDataFromDicts\n",
        "from distilabel.steps.tasks import EvolQuality, TextGeneration\n",
        "\n",
        "with Pipeline() as pipeline:\n",
        "    llm = InferenceEndpointsLLM(\n",
        "        base_url=\"https://api-inference.huggingface.co/models/meta-llama/Llama-3.2-3B-Instruct\",\n",
        "    )\n",
        "    data = LoadDataFromDicts(\n",
        "        data=[{\"instruction\": \"Generate a short question about data science.\"}]\n",
        "    )\n",
        "    gen_a = TextGeneration(\n",
        "        llm=llm,\n",
        "        output_mappings={\"generation\": \"rejected\"},\n",
        "    )\n",
        "    gen_b = EvolQuality(\n",
        "        llm=llm,\n",
        "        num_evolutions=1,\n",
        "        input_mappings={\"response\": \"rejected\"},\n",
        "        output_mappings={\"evolved_response\": \"chosen\"},\n",
        "    )\n",
        "    data >> gen_a >> gen_b\n",
        "\n",
        "if __name__ == \"__main__\":\n",
        "    username = \"uplimit\"\n",
        "    distiset = pipeline.run(use_cache=False)\n",
        "    distiset.push_to_hub(\n",
        "        f\"{username}/uplimit-synthetic-data-week-2-with-evol\",\n",
        "        include_script=True,\n",
        "    )"
      ],
      "metadata": {
        "id": "rhfe7QqWgZYN"
      },
      "execution_count": null,
      "outputs": []
    },
    {
      "cell_type": "markdown",
      "source": [
        "### With critiques\n",
        "\n",
        "We can now also add generation for using differen models and then evaluate them using an LLM as a judge. Good judges can be found in [allenai/reward-bench](https://huggingface.co/spaces/allenai/reward-bench) or the [AtlaAI/judge-arena](https://huggingface.co/spaces/AtlaAI/judge-arena)."
      ],
      "metadata": {
        "id": "rfcp18GGg-bK"
      }
    },
    {
      "cell_type": "code",
      "source": [
        "from distilabel.models.llms.huggingface import InferenceEndpointsLLM\n",
        "from distilabel.pipeline import Pipeline\n",
        "from distilabel.steps import GroupColumns, LoadDataFromDicts\n",
        "from distilabel.steps.tasks import TextGeneration, UltraFeedback\n",
        "\n",
        "with Pipeline() as pipeline:\n",
        "    data = LoadDataFromDicts(\n",
        "        data=[{\"instruction\": \"Generate a short question about data science.\"}]\n",
        "    )\n",
        "    llm_gen_a = InferenceEndpointsLLM(\n",
        "        base_url=\"https://api-inference.huggingface.co/models/meta-llama/Llama-3.2-3B-Instruct\"\n",
        "    )\n",
        "    llm_gen_b = InferenceEndpointsLLM(\n",
        "        base_url=\"https://api-inference.huggingface.co/models/Qwen/Qwen2.5-1.5B-Instruct\"\n",
        "    )\n",
        "    gen_a = TextGeneration(llm=llm_gen_a, output_mappings={\"generation\": \"instruction\"})\n",
        "    gen_b = TextGeneration(llm=llm_gen_a)\n",
        "    gen_c = TextGeneration(llm=llm_gen_b)\n",
        "    llm_judge = InferenceEndpointsLLM(\n",
        "        base_url=\"https://api-inference.huggingface.co/models/mistralai/Mistral-7B-Instruct-v0.3\"\n",
        "    )\n",
        "    group_columns = GroupColumns(\n",
        "        name=\"combine_columns\",\n",
        "        columns=[\n",
        "            \"generation\",\n",
        "            \"model_name\",\n",
        "        ],\n",
        "        output_columns=[\n",
        "            \"generations\",\n",
        "            \"generation_models\",\n",
        "        ],\n",
        "        input_batch_size=2,\n",
        "    )\n",
        "    judge = UltraFeedback(\n",
        "        llm=llm_judge,\n",
        "        aspect=\"overall-rating\",\n",
        "    )\n",
        "    data >> gen_a >> [gen_b, gen_c] >> group_columns >> judge\n",
        "\n",
        "if __name__ == \"__main__\":\n",
        "    username = \"uplimit\"\n",
        "    distiset = pipeline.run(use_cache=False)\n",
        "    distiset.push_to_hub(f\"{username}/uplimit-synthetic-data-week-2-critique\")"
      ],
      "metadata": {
        "id": "71MN9ksMkHmJ"
      },
      "execution_count": null,
      "outputs": []
    },
    {
      "cell_type": "markdown",
      "source": [
        "### With multi-turn"
      ],
      "metadata": {
        "id": "TabKqsWChB4p"
      }
    },
    {
      "cell_type": "code",
      "source": [
        "from distilabel.models.llms.huggingface import InferenceEndpointsLLM\n",
        "from distilabel.pipeline import Pipeline\n",
        "from distilabel.steps.tasks import ChatGeneration, MagpieGenerator\n",
        "\n",
        "with Pipeline() as pipeline:\n",
        "    llm_magpie = InferenceEndpointsLLM(\n",
        "        base_url=\"https://api-inference.huggingface.co/models/meta-llama/Llama-3.3-70B-Instruct\",\n",
        "        tokenizer_id=\"meta-llama/Llama-3.3-70B-Instruct\",\n",
        "        magpie_pre_query_template=\"llama3\",\n",
        "        use_magpie_template=True,\n",
        "        generation_kwargs={\"max_new_tokens\": 2000},\n",
        "    )\n",
        "    llm_worse = InferenceEndpointsLLM(\n",
        "        base_url=\"https://api-inference.huggingface.co/models/meta-llama/Llama-3.2-3B-Instruct\",\n",
        "        generation_kwargs={\"max_new_tokens\": 2000},\n",
        "    )\n",
        "    llm_better = InferenceEndpointsLLM(\n",
        "        base_url=\"https://api-inference.huggingface.co/models/meta-llama/Llama-3.3-70B-Instruct\",\n",
        "        generation_kwargs={\"max_new_tokens\": 2000},\n",
        "    )\n",
        "    gen_a = MagpieGenerator(llm=llm_magpie, end_with_user=True, num_rows=1, n_turns=2)\n",
        "    gen_b = ChatGeneration(\n",
        "        llm=llm_worse,\n",
        "        input_mappings={\"messages\": \"conversation\"},\n",
        "        output_mappings={\"generation\": \"rejected\"},\n",
        "    )\n",
        "    gen_c = ChatGeneration(\n",
        "        llm=llm_better,\n",
        "        input_mappings={\"messages\": \"conversation\"},\n",
        "        output_mappings={\"generation\": \"chosen\"},\n",
        "    )\n",
        "    gen_a >> gen_b >> gen_c\n",
        "\n",
        "if __name__ == \"__main__\":\n",
        "    distiset = pipeline.run(use_cache=False)\n",
        "    distiset.push_to_hub(\n",
        "        \"uplimit/uplimit-synthetic-data-week-2-with-multi-turn\",\n",
        "        include_script=True,\n",
        "    )"
      ],
      "metadata": {
        "id": "jwYXv_mC_Jgj"
      },
      "execution_count": null,
      "outputs": []
    },
    {
      "cell_type": "markdown",
      "source": [
        "## 2. Explore and evaluate the generated data\n",
        "\n",
        "We will nog show some basic data exploration on top of the [argilla/distilabel-intel-orca-dpo-pairs](https://huggingface.co/datasets/argilla/distilabel-intel-orca-dpo-pairs) dataset. This dataset had some original preference pairs and distilabel was used to provide new ratings and evaluate the correctness of the provided pairs.\n"
      ],
      "metadata": {
        "id": "Wh7bre15kheX"
      }
    },
    {
      "cell_type": "code",
      "source": [
        "from datasets import load_dataset\n",
        "\n",
        "dataset = load_dataset(\"argilla/distilabel-intel-orca-dpo-pairs\")\n",
        "dataset"
      ],
      "metadata": {
        "id": "UG429u0uP14b",
        "colab": {
          "base_uri": "https://localhost:8080/",
          "height": 236,
          "referenced_widgets": [
            "796b6a34cbb74b74b57f147648a03ef5",
            "5d6b16c7f4e041a5984f9d56fca9bed5",
            "bf10f070144e4eee872a59797f462e11",
            "28aa8b7c989942e9a25e12651e2f87b0",
            "0860d39e24434b64bf46f88a63781095",
            "1987f6f706974a539fdbc3d37fa93f8c",
            "0a18b55378314edfb1438492adbaaf66",
            "ac9ccc2a62c4438a8e4cb7b54d2e1063",
            "e01645dc8d5142bbb65ebde8b557cd98",
            "661b1dbfbb2a47c8bedfabb8d70f5a89",
            "8d643422af864e8e97e0b836eb6c7ef8",
            "c462474824f84888938e0f0f95de69c8",
            "4cbb11459a3547268c921ed647c8af39",
            "1ddbb29fb27144a8afe7b074ad9e1f30",
            "bf323c03dd35456799c831b15e9062b2",
            "37737ed5ce614dcd8a9cf5f8cf75144f",
            "303a35602c3e4fe5935a2141623ae9b4",
            "c9caced8ff6d4d78a6493481affb5d93",
            "b03ab62832504446abd0d2566b5ff505",
            "1f83207cc337417e8a3092028b5877ad",
            "641159f6255749dabec757e651ad8cc1",
            "1829339a123c403da32f2a867e5f58d4",
            "fd21dd4b918541298e6f3f3a6147d21f",
            "478ea90ea76649c488fe22341ee30e20",
            "1421796339ce429787591c3bbf1de19d",
            "3ff526b299b34a27bb01428093980481",
            "facc3ec8dbb6419eaa1cba88ec3b3537",
            "7b38c54e61a745969e3fbdc8959e7eda",
            "febb8cdab35d43ffb675dbc330fbb73b",
            "c5457c4c956b43b1818396db0d58342c",
            "815aaa4a718f4abba74d638a187432aa",
            "14fb659dc4514b60959d4517a931fad5",
            "14078d0303b7481881f067844ba9683a"
          ]
        },
        "outputId": "f8a92397-14a3-482c-f973-fe1c6e377dda"
      },
      "execution_count": null,
      "outputs": [
        {
          "output_type": "display_data",
          "data": {
            "text/plain": [
              "README.md:   0%|          | 0.00/10.2k [00:00<?, ?B/s]"
            ],
            "application/vnd.jupyter.widget-view+json": {
              "version_major": 2,
              "version_minor": 0,
              "model_id": "796b6a34cbb74b74b57f147648a03ef5"
            }
          },
          "metadata": {}
        },
        {
          "output_type": "display_data",
          "data": {
            "text/plain": [
              "train-00000-of-00001.parquet:   0%|          | 0.00/79.2M [00:00<?, ?B/s]"
            ],
            "application/vnd.jupyter.widget-view+json": {
              "version_major": 2,
              "version_minor": 0,
              "model_id": "c462474824f84888938e0f0f95de69c8"
            }
          },
          "metadata": {}
        },
        {
          "output_type": "display_data",
          "data": {
            "text/plain": [
              "Generating train split:   0%|          | 0/12859 [00:00<?, ? examples/s]"
            ],
            "application/vnd.jupyter.widget-view+json": {
              "version_major": 2,
              "version_minor": 0,
              "model_id": "fd21dd4b918541298e6f3f3a6147d21f"
            }
          },
          "metadata": {}
        },
        {
          "output_type": "execute_result",
          "data": {
            "text/plain": [
              "DatasetDict({\n",
              "    train: Dataset({\n",
              "        features: ['system', 'input', 'chosen', 'rejected', 'generations', 'order', 'labelling_model', 'labelling_prompt', 'raw_labelling_response', 'rating', 'rationale', 'status', 'original_chosen', 'original_rejected', 'chosen_score', 'in_gsm8k_train'],\n",
              "        num_rows: 12859\n",
              "    })\n",
              "})"
            ]
          },
          "metadata": {},
          "execution_count": 2
        }
      ]
    },
    {
      "cell_type": "markdown",
      "source": [
        "We know, that there is a column that includes rating, which we can use as simple quality filters, so let's focus on all examples where the `chosen` rating is larger than 8."
      ],
      "metadata": {
        "id": "0VIC_QOFQXrB"
      }
    },
    {
      "cell_type": "code",
      "source": [
        "dataset_quality = dataset.filter(\n",
        "    lambda r:\n",
        "        not r[\"chosen_score\"] is None and\n",
        "        r[\"chosen_score\"] >= 8\n",
        ")\n",
        "dataset_quality"
      ],
      "metadata": {
        "colab": {
          "base_uri": "https://localhost:8080/",
          "height": 172,
          "referenced_widgets": [
            "1110291dcc0041afa5a11ad1944aa53e",
            "37f7586b08ad4ac0b25a9a137414e925",
            "f475095b8e504c46aa3c0a375b2cec19",
            "0247dd79403c411da121f5a76a9f4967",
            "f01ec8eed86a413dbb63e3f610245d83",
            "6b78d9fdff874bb5931aa917338668a9",
            "42f936f32e53461fa211e5c1d07bd2b3",
            "194d7d6106b94fc7bc027075d02e7061",
            "7cbe33500a4c4d8c812fa0eb8b498b59",
            "00706c1d01464205bef966afc51c279c",
            "fb3728e9e1464665ac24f75281bd1e79"
          ]
        },
        "id": "pZ3OAIvDQnnm",
        "outputId": "53d13d33-a477-4f1c-abb9-721fd1771b52"
      },
      "execution_count": null,
      "outputs": [
        {
          "output_type": "display_data",
          "data": {
            "text/plain": [
              "Filter:   0%|          | 0/12859 [00:00<?, ? examples/s]"
            ],
            "application/vnd.jupyter.widget-view+json": {
              "version_major": 2,
              "version_minor": 0,
              "model_id": "1110291dcc0041afa5a11ad1944aa53e"
            }
          },
          "metadata": {}
        },
        {
          "output_type": "execute_result",
          "data": {
            "text/plain": [
              "DatasetDict({\n",
              "    train: Dataset({\n",
              "        features: ['system', 'input', 'chosen', 'rejected', 'generations', 'order', 'labelling_model', 'labelling_prompt', 'raw_labelling_response', 'rating', 'rationale', 'status', 'original_chosen', 'original_rejected', 'chosen_score', 'in_gsm8k_train'],\n",
              "        num_rows: 9499\n",
              "    })\n",
              "})"
            ]
          },
          "metadata": {},
          "execution_count": 3
        }
      ]
    },
    {
      "cell_type": "markdown",
      "source": [
        "Similarly, we can focus on examples where the difference between chosen and rejected scores is large enough so the model can distinguish between them, while ensuring the difference is not too big."
      ],
      "metadata": {
        "id": "e-z_KmJkQsVj"
      }
    },
    {
      "cell_type": "code",
      "source": [
        "dataset_quality_diff = dataset_quality.filter(\n",
        "    lambda r:\n",
        "        not r[\"rating\"] is None and\n",
        "        (max(r[\"rating\"]) - min(r[\"rating\"])) > 1 and\n",
        "        (max(r[\"rating\"]) - min(r[\"rating\"])) < 4\n",
        ")\n",
        "dataset_quality_diff"
      ],
      "metadata": {
        "colab": {
          "base_uri": "https://localhost:8080/",
          "height": 172,
          "referenced_widgets": [
            "7472d10e62b3488695d57654b12ae3c7",
            "ee63d520a741453f824c72161cb151ea",
            "08748d76a508449ca4b0b911d43c24c7",
            "4a5cb6991d734b87ad0f838e358c2b45",
            "bd7151b9ac6c45bc832872470ff03e6c",
            "b2c7218e4b97459aa994a24cbb7dea12",
            "6f606fa61e5148d09ecb59d0fc52fb7e",
            "41449e6ccf0e4935967c23f53d9dde3d",
            "90e486cf55c040dc80887c492acabdfd",
            "10207248f8af484eae71ac9eb3fd872b",
            "9a3e91781f064c5ca8baa00834d88cf9"
          ]
        },
        "id": "mDgAbtI8Qr4w",
        "outputId": "00c092b8-7154-4263-8924-5ac07da62d15"
      },
      "execution_count": null,
      "outputs": [
        {
          "output_type": "display_data",
          "data": {
            "text/plain": [
              "Filter:   0%|          | 0/9499 [00:00<?, ? examples/s]"
            ],
            "application/vnd.jupyter.widget-view+json": {
              "version_major": 2,
              "version_minor": 0,
              "model_id": "7472d10e62b3488695d57654b12ae3c7"
            }
          },
          "metadata": {}
        },
        {
          "output_type": "execute_result",
          "data": {
            "text/plain": [
              "DatasetDict({\n",
              "    train: Dataset({\n",
              "        features: ['system', 'input', 'chosen', 'rejected', 'generations', 'order', 'labelling_model', 'labelling_prompt', 'raw_labelling_response', 'rating', 'rationale', 'status', 'original_chosen', 'original_rejected', 'chosen_score', 'in_gsm8k_train'],\n",
              "        num_rows: 1468\n",
              "    })\n",
              "})"
            ]
          },
          "metadata": {},
          "execution_count": 4
        }
      ]
    },
    {
      "cell_type": "markdown",
      "source": [
        "Great, now we have a good starting subset based off our rating, we can continue to analyse the quality using some additional metrics. We will be using [`text-descriptives`](https://github.com/HLasse/TextDescriptives) to get some quality metrics for our texts. Specifically we will focus on the `flesch_reading_ease`, which indicates how easy a text is to read, where higher scores indicate easier reading."
      ],
      "metadata": {
        "id": "lLzrF7R2TQOQ"
      }
    },
    {
      "cell_type": "code",
      "source": [
        "import textdescriptives as td\n",
        "\n",
        "\n",
        "def process_quality(batch):\n",
        "    df = td.extract_metrics(\n",
        "        text=batch[\"chosen\"],\n",
        "        lang=\"en\",\n",
        "        metrics=[\"readability\"]\n",
        "    )\n",
        "    batch[\"flesch_reading_ease\"] = df[\"flesch_reading_ease\"].values\n",
        "    return batch\n",
        "\n",
        "\n",
        "dataset_quality_diff_reading = dataset_quality_diff.map(\n",
        "    process_quality, batched=True\n",
        ")"
      ],
      "metadata": {
        "id": "KIM-9PVl_Tqh"
      },
      "execution_count": null,
      "outputs": []
    },
    {
      "cell_type": "markdown",
      "source": [
        "Next, we will also be adding some general domain classification using [gliclass](https://github.com/Knowledgator/GLiClass), which is an optimised zero-shot classification model. To further speed up this process, we will also be using a [ModernBERT architecture model](https://huggingface.co/knowledgator/gliclass-modern-large-v2.0-init) which is around 4x quicker on CPU."
      ],
      "metadata": {
        "id": "fOwT5-WfBD-b"
      }
    },
    {
      "cell_type": "code",
      "source": [
        "from gliclass import GLiClassModel, ZeroShotClassificationPipeline\n",
        "from transformers import AutoTokenizer\n",
        "\n",
        "repo_id = \"knowledgator/gliclass-modern-base-v2.0-init\"\n",
        "model = GLiClassModel.from_pretrained(repo_id)\n",
        "tokenizer = AutoTokenizer.from_pretrained(repo_id)\n",
        "\n",
        "pipeline = ZeroShotClassificationPipeline(\n",
        "    model,\n",
        "    tokenizer,\n",
        "    device=\"cuda\"\n",
        ")"
      ],
      "metadata": {
        "id": "DocBSr25BOha"
      },
      "execution_count": null,
      "outputs": []
    },
    {
      "cell_type": "markdown",
      "source": [
        "We then define out labels and run our batched inference. We do recommend using GPUs for running this part of the pipeline."
      ],
      "metadata": {
        "id": "2oKucmlVHAgd"
      }
    },
    {
      "cell_type": "code",
      "source": [
        "labels = [\n",
        "    \"business and industrial\",\n",
        "    \"books and literature\",\n",
        "    \"home and garden\",\n",
        "    \"adult\",\n",
        "    \"science\",\n",
        "    \"food and drink\",\n",
        "    \"real estate\",\n",
        "    \"news\",\n",
        "    \"jobs and education\",\n",
        "    \"health\",\n",
        "    \"hobbies and leisure\",\n",
        "    \"games\",\n",
        "    \"beauty and fitness\",\n",
        "    \"computers and electronics\",\n",
        "    \"arts and entertainment\",\n",
        "    \"travel and transportation\",\n",
        "    \"finance\",\n",
        "    \"law and government\",\n",
        "    \"sensitive subjects\",\n",
        "    \"autos and vehicles\",\n",
        "    \"people and society\",\n",
        "    \"sports\",\n",
        "    \"shopping\",\n",
        "    \"online communities\",\n",
        "    \"pets and animals\",\n",
        "    \"internet and telecom\",\n",
        "]\n",
        "\n",
        "def process_domains(batch):\n",
        "    results = pipeline(batch[\"input\"], labels, threshold=0)\n",
        "    batch[\"domain\"] = [max(res, key=lambda x: x['score'])[\"label\"]\n",
        " if res else None for res in results]\n",
        "    return batch\n",
        "\n",
        "dataset_quality_diff_reading_domain = dataset_quality_diff_reading.map(\n",
        "    process_domains, batched=True\n",
        ")\n",
        "dataset_quality_diff_reading_domain"
      ],
      "metadata": {
        "id": "IU1XZf51DCPV"
      },
      "execution_count": null,
      "outputs": []
    },
    {
      "cell_type": "markdown",
      "source": [
        "### 3. Publish the dataset on Hugging Face\n",
        "\n",
        "Publish the dataset on the Hugging Face Hub. Make sure you update the ModelCard with all relevant information. Additionally, link the exploratory data analysis and preferably also add an analysis script."
      ],
      "metadata": {
        "id": "BQFhKtXEPb5d"
      }
    },
    {
      "cell_type": "code",
      "source": [
        "from datasets import Dataset\n",
        "\n",
        "dataset_quality_diff_reading_domain.push_to_hub(\"uplimit/uplimit-synthetic-data-week-2-filtered\")"
      ],
      "metadata": {
        "id": "ekO1HazWPpnZ"
      },
      "execution_count": null,
      "outputs": []
    },
    {
      "cell_type": "markdown",
      "source": [
        "Now, we can go to our dataset page and update the ModelCard with all relevant information. Additionally, we can add an analysis script. A good example for this is the original card attached to [argilla/distilabel-intel-orca-dpo-pairs](https://huggingface.co/datasets/argilla/distilabel-intel-orca-dpo-pairs)."
      ],
      "metadata": {
        "id": "jGHBr7moPo8s"
      }
    }
  ]
}